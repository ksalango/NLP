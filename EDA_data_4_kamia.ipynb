{
 "cells": [
  {
   "cell_type": "markdown",
   "metadata": {},
   "source": [
    "# EDA Hugging Face Dataset"
   ]
  },
  {
   "cell_type": "code",
   "execution_count": 36,
   "metadata": {},
   "outputs": [],
   "source": [
    "import pandas as pd\n",
    "import numpy as np\n",
    "import matplotlib.pyplot as plt\n",
    "import os\n",
    "import glob\n",
    "import ast"
   ]
  },
  {
   "cell_type": "markdown",
   "metadata": {},
   "source": [
    "## Data Dictionary\n",
    "<details>\n",
    "<summary>Click to expand</summary>\n",
    "\n",
    "| Column Name     | Description                                                                                     |\n",
    "|-----------------|-------------------------------------------------------------------------------------------------|\n",
    "| text            | The text data in each row.                                                                     |\n",
    "| labels          | The labels associated with each text (e.g., toxic, non-toxic).                                  |\n",
    "| encoded_labels  | Encoded version of the labels for machine learning models.                                      |\n",
    "| text_length(added)     | The length of each text in the `text` column, calculated as the number of characters in the text.|\n",
    "| labels_list(added)     |  Parsed lists of labels                 |\n",
    "\n",
    "</details>\n"
   ]
  },
  {
   "cell_type": "markdown",
   "metadata": {},
   "source": [
    "Data consists of three columns stored in parquet files: \n",
    "- encoded labels sotred as strings in single column, will have to be converted to binary array for ML. "
   ]
  },
  {
   "cell_type": "code",
   "execution_count": 18,
   "metadata": {},
   "outputs": [],
   "source": [
    "def read_parquet_files(file_path_pattern):\n",
    "    dfs =[]\n",
    "    #glob finds all path names matching specified pattern\n",
    "    for file_name in glob.glob(file_path_pattern):\n",
    "        df =pd.read_parquet(file_name, engine='pyarrow')\n",
    "        dfs.append(df)\n",
    "    return pd.concat(dfs, ignore_index =True)"
   ]
  },
  {
   "cell_type": "markdown",
   "metadata": {},
   "source": [
    "## Train Data Set"
   ]
  },
  {
   "cell_type": "code",
   "execution_count": 19,
   "metadata": {},
   "outputs": [],
   "source": [
    "data = read_parquet_files('../data/hugging/train-*.parquet') #use wildcard -* to identify pattern"
   ]
  },
  {
   "cell_type": "code",
   "execution_count": 20,
   "metadata": {},
   "outputs": [
    {
     "data": {
      "text/html": [
       "<div>\n",
       "<style scoped>\n",
       "    .dataframe tbody tr th:only-of-type {\n",
       "        vertical-align: middle;\n",
       "    }\n",
       "\n",
       "    .dataframe tbody tr th {\n",
       "        vertical-align: top;\n",
       "    }\n",
       "\n",
       "    .dataframe thead th {\n",
       "        text-align: right;\n",
       "    }\n",
       "</style>\n",
       "<table border=\"1\" class=\"dataframe\">\n",
       "  <thead>\n",
       "    <tr style=\"text-align: right;\">\n",
       "      <th></th>\n",
       "      <th>text</th>\n",
       "      <th>labels</th>\n",
       "      <th>encoded_labels</th>\n",
       "    </tr>\n",
       "  </thead>\n",
       "  <tbody>\n",
       "    <tr>\n",
       "      <th>0</th>\n",
       "      <td>Football positions \\n\\nHi Mehudson.  When you'...</td>\n",
       "      <td>[]</td>\n",
       "      <td>[0, 0, 0, 0, 0, 0, 0, 0, 0]</td>\n",
       "    </tr>\n",
       "    <tr>\n",
       "      <th>1</th>\n",
       "      <td>Thank you SO MUCH for your Nazi-like oversight...</td>\n",
       "      <td>[toxic, profane, insult]</td>\n",
       "      <td>[1, 1, 1, 0, 0, 0, 0, 0, 0]</td>\n",
       "    </tr>\n",
       "    <tr>\n",
       "      <th>2</th>\n",
       "      <td>Darkwind  \\n Stick it up your arse you offensi...</td>\n",
       "      <td>[toxic, profane]</td>\n",
       "      <td>[1, 1, 0, 0, 0, 0, 0, 0, 0]</td>\n",
       "    </tr>\n",
       "    <tr>\n",
       "      <th>3</th>\n",
       "      <td>Message from you to an IP \\n\\nI received a mes...</td>\n",
       "      <td>[]</td>\n",
       "      <td>[0, 0, 0, 0, 0, 0, 0, 0, 0]</td>\n",
       "    </tr>\n",
       "    <tr>\n",
       "      <th>4</th>\n",
       "      <td>Misleading and inappropriate citations Used</td>\n",
       "      <td>[]</td>\n",
       "      <td>[0, 0, 0, 0, 0, 0, 0, 0, 0]</td>\n",
       "    </tr>\n",
       "  </tbody>\n",
       "</table>\n",
       "</div>"
      ],
      "text/plain": [
       "                                                text  \\\n",
       "0  Football positions \\n\\nHi Mehudson.  When you'...   \n",
       "1  Thank you SO MUCH for your Nazi-like oversight...   \n",
       "2  Darkwind  \\n Stick it up your arse you offensi...   \n",
       "3  Message from you to an IP \\n\\nI received a mes...   \n",
       "4        Misleading and inappropriate citations Used   \n",
       "\n",
       "                     labels               encoded_labels  \n",
       "0                        []  [0, 0, 0, 0, 0, 0, 0, 0, 0]  \n",
       "1  [toxic, profane, insult]  [1, 1, 1, 0, 0, 0, 0, 0, 0]  \n",
       "2          [toxic, profane]  [1, 1, 0, 0, 0, 0, 0, 0, 0]  \n",
       "3                        []  [0, 0, 0, 0, 0, 0, 0, 0, 0]  \n",
       "4                        []  [0, 0, 0, 0, 0, 0, 0, 0, 0]  "
      ]
     },
     "execution_count": 20,
     "metadata": {},
     "output_type": "execute_result"
    }
   ],
   "source": [
    "data.head()"
   ]
  },
  {
   "cell_type": "code",
   "execution_count": 21,
   "metadata": {},
   "outputs": [
    {
     "name": "stdout",
     "output_type": "stream",
     "text": [
      "<class 'pandas.core.frame.DataFrame'>\n",
      "RangeIndex: 6344950 entries, 0 to 6344949\n",
      "Data columns (total 3 columns):\n",
      " #   Column          Dtype \n",
      "---  ------          ----- \n",
      " 0   text            object\n",
      " 1   labels          object\n",
      " 2   encoded_labels  object\n",
      "dtypes: object(3)\n",
      "memory usage: 145.2+ MB\n"
     ]
    }
   ],
   "source": [
    "data.info()"
   ]
  },
  {
   "cell_type": "code",
   "execution_count": 22,
   "metadata": {},
   "outputs": [
    {
     "data": {
      "text/plain": [
       "text              0\n",
       "labels            0\n",
       "encoded_labels    0\n",
       "dtype: int64"
      ]
     },
     "execution_count": 22,
     "metadata": {},
     "output_type": "execute_result"
    }
   ],
   "source": [
    "data.isnull().sum()"
   ]
  },
  {
   "cell_type": "markdown",
   "metadata": {},
   "source": [
    "### Text Length"
   ]
  },
  {
   "cell_type": "code",
   "execution_count": 23,
   "metadata": {},
   "outputs": [],
   "source": [
    "#add column with text length\n",
    "data['text_length'] = data['text'].apply(len)"
   ]
  },
  {
   "cell_type": "code",
   "execution_count": 24,
   "metadata": {},
   "outputs": [
    {
     "data": {
      "text/html": [
       "<div>\n",
       "<style scoped>\n",
       "    .dataframe tbody tr th:only-of-type {\n",
       "        vertical-align: middle;\n",
       "    }\n",
       "\n",
       "    .dataframe tbody tr th {\n",
       "        vertical-align: top;\n",
       "    }\n",
       "\n",
       "    .dataframe thead th {\n",
       "        text-align: right;\n",
       "    }\n",
       "</style>\n",
       "<table border=\"1\" class=\"dataframe\">\n",
       "  <thead>\n",
       "    <tr style=\"text-align: right;\">\n",
       "      <th></th>\n",
       "      <th>text</th>\n",
       "      <th>labels</th>\n",
       "      <th>encoded_labels</th>\n",
       "      <th>text_length</th>\n",
       "    </tr>\n",
       "  </thead>\n",
       "  <tbody>\n",
       "    <tr>\n",
       "      <th>0</th>\n",
       "      <td>Football positions \\n\\nHi Mehudson.  When you'...</td>\n",
       "      <td>[]</td>\n",
       "      <td>[0, 0, 0, 0, 0, 0, 0, 0, 0]</td>\n",
       "      <td>324</td>\n",
       "    </tr>\n",
       "    <tr>\n",
       "      <th>1</th>\n",
       "      <td>Thank you SO MUCH for your Nazi-like oversight...</td>\n",
       "      <td>[toxic, profane, insult]</td>\n",
       "      <td>[1, 1, 1, 0, 0, 0, 0, 0, 0]</td>\n",
       "      <td>272</td>\n",
       "    </tr>\n",
       "    <tr>\n",
       "      <th>2</th>\n",
       "      <td>Darkwind  \\n Stick it up your arse you offensi...</td>\n",
       "      <td>[toxic, profane]</td>\n",
       "      <td>[1, 1, 0, 0, 0, 0, 0, 0, 0]</td>\n",
       "      <td>99</td>\n",
       "    </tr>\n",
       "  </tbody>\n",
       "</table>\n",
       "</div>"
      ],
      "text/plain": [
       "                                                text  \\\n",
       "0  Football positions \\n\\nHi Mehudson.  When you'...   \n",
       "1  Thank you SO MUCH for your Nazi-like oversight...   \n",
       "2  Darkwind  \\n Stick it up your arse you offensi...   \n",
       "\n",
       "                     labels               encoded_labels  text_length  \n",
       "0                        []  [0, 0, 0, 0, 0, 0, 0, 0, 0]          324  \n",
       "1  [toxic, profane, insult]  [1, 1, 1, 0, 0, 0, 0, 0, 0]          272  \n",
       "2          [toxic, profane]  [1, 1, 0, 0, 0, 0, 0, 0, 0]           99  "
      ]
     },
     "execution_count": 24,
     "metadata": {},
     "output_type": "execute_result"
    }
   ],
   "source": [
    "data.head(3)"
   ]
  },
  {
   "cell_type": "code",
   "execution_count": 25,
   "metadata": {},
   "outputs": [
    {
     "data": {
      "image/png": "[encoded data removed]",
      "text/plain": [
       "<Figure size 1000x600 with 1 Axes>"
      ]
     },
     "metadata": {},
     "output_type": "display_data"
    }
   ],
   "source": [
    "plt.figure(figsize=(10, 6))\n",
    "plt.hist(data['text_length'], bins=50, color='skyblue', edgecolor='black')\n",
    "plt.xlabel('Text Length')\n",
    "plt.ylabel('Frequency')\n",
    "plt.title('Distribution of Text Lengths')\n",
    "plt.show()\n"
   ]
  },
  {
   "cell_type": "markdown",
   "metadata": {},
   "source": [
    "### Label Distribution and Class Imbalance"
   ]
  },
  {
   "cell_type": "code",
   "execution_count": 32,
   "metadata": {},
   "outputs": [
    {
     "data": {
      "text/html": [
       "<div>\n",
       "<style scoped>\n",
       "    .dataframe tbody tr th:only-of-type {\n",
       "        vertical-align: middle;\n",
       "    }\n",
       "\n",
       "    .dataframe tbody tr th {\n",
       "        vertical-align: top;\n",
       "    }\n",
       "\n",
       "    .dataframe thead th {\n",
       "        text-align: right;\n",
       "    }\n",
       "</style>\n",
       "<table border=\"1\" class=\"dataframe\">\n",
       "  <thead>\n",
       "    <tr style=\"text-align: right;\">\n",
       "      <th></th>\n",
       "      <th>text</th>\n",
       "      <th>labels</th>\n",
       "      <th>encoded_labels</th>\n",
       "      <th>text_length</th>\n",
       "      <th>labels_list</th>\n",
       "    </tr>\n",
       "  </thead>\n",
       "  <tbody>\n",
       "    <tr>\n",
       "      <th>0</th>\n",
       "      <td>Football positions \\n\\nHi Mehudson.  When you'...</td>\n",
       "      <td>[]</td>\n",
       "      <td>[0, 0, 0, 0, 0, 0, 0, 0, 0]</td>\n",
       "      <td>324</td>\n",
       "      <td>[]</td>\n",
       "    </tr>\n",
       "    <tr>\n",
       "      <th>1</th>\n",
       "      <td>Thank you SO MUCH for your Nazi-like oversight...</td>\n",
       "      <td>[toxic, profane, insult]</td>\n",
       "      <td>[1, 1, 1, 0, 0, 0, 0, 0, 0]</td>\n",
       "      <td>272</td>\n",
       "      <td>[]</td>\n",
       "    </tr>\n",
       "    <tr>\n",
       "      <th>2</th>\n",
       "      <td>Darkwind  \\n Stick it up your arse you offensi...</td>\n",
       "      <td>[toxic, profane]</td>\n",
       "      <td>[1, 1, 0, 0, 0, 0, 0, 0, 0]</td>\n",
       "      <td>99</td>\n",
       "      <td>[]</td>\n",
       "    </tr>\n",
       "    <tr>\n",
       "      <th>3</th>\n",
       "      <td>Message from you to an IP \\n\\nI received a mes...</td>\n",
       "      <td>[]</td>\n",
       "      <td>[0, 0, 0, 0, 0, 0, 0, 0, 0]</td>\n",
       "      <td>292</td>\n",
       "      <td>[]</td>\n",
       "    </tr>\n",
       "    <tr>\n",
       "      <th>4</th>\n",
       "      <td>Misleading and inappropriate citations Used</td>\n",
       "      <td>[]</td>\n",
       "      <td>[0, 0, 0, 0, 0, 0, 0, 0, 0]</td>\n",
       "      <td>43</td>\n",
       "      <td>[]</td>\n",
       "    </tr>\n",
       "  </tbody>\n",
       "</table>\n",
       "</div>"
      ],
      "text/plain": [
       "                                                text  \\\n",
       "0  Football positions \\n\\nHi Mehudson.  When you'...   \n",
       "1  Thank you SO MUCH for your Nazi-like oversight...   \n",
       "2  Darkwind  \\n Stick it up your arse you offensi...   \n",
       "3  Message from you to an IP \\n\\nI received a mes...   \n",
       "4        Misleading and inappropriate citations Used   \n",
       "\n",
       "                     labels               encoded_labels  text_length  \\\n",
       "0                        []  [0, 0, 0, 0, 0, 0, 0, 0, 0]          324   \n",
       "1  [toxic, profane, insult]  [1, 1, 1, 0, 0, 0, 0, 0, 0]          272   \n",
       "2          [toxic, profane]  [1, 1, 0, 0, 0, 0, 0, 0, 0]           99   \n",
       "3                        []  [0, 0, 0, 0, 0, 0, 0, 0, 0]          292   \n",
       "4                        []  [0, 0, 0, 0, 0, 0, 0, 0, 0]           43   \n",
       "\n",
       "  labels_list  \n",
       "0          []  \n",
       "1          []  \n",
       "2          []  \n",
       "3          []  \n",
       "4          []  "
      ]
     },
     "execution_count": 32,
     "metadata": {},
     "output_type": "execute_result"
    }
   ],
   "source": [
    "data.head()"
   ]
  },
  {
   "cell_type": "code",
   "execution_count": 109,
   "metadata": {},
   "outputs": [],
   "source": [
    "#handle empty strings of labels\n",
    "def safe_literal_eval(x):\n",
    "    try:\n",
    "        if isinstance(x, str): \n",
    "            if x.startswith('[') and x.endswith(']'):\n",
    "                return ast.literal_eval(x)\n",
    "            else:\n",
    "                return []\n",
    "        elif isinstance(x, np.ndarray):\n",
    "            return x.tolist()\n",
    "        else:\n",
    "            return []         \n",
    "    except (SyntaxError, ValueError):\n",
    "        return []"
   ]
  },
  {
   "cell_type": "code",
   "execution_count": 38,
   "metadata": {},
   "outputs": [
    {
     "name": "stdout",
     "output_type": "stream",
     "text": [
      "Label distribution:\n",
      "toxic         568042\n",
      "selfharm      247778\n",
      "insult        237258\n",
      "profane        51340\n",
      "hate           49439\n",
      "offensive      37329\n",
      "threat          9065\n",
      "sexual          8929\n",
      "harassment      4072\n",
      "Name: count, dtype: int64\n",
      "\n",
      "Number of rows without labels: 5436491\n"
     ]
    }
   ],
   "source": [
    "#ast.literal_eval convert string representation of labels to a list\n",
    "data['labels_list'] = data['labels'].apply(safe_literal_eval) \n",
    "#flatten list\n",
    "#first part iterate through rows, nested for; iterate through labels in row\n",
    "all_labels = [label for labels_list in data['labels_list'] for label in labels_list]\n",
    "\n",
    "#calculate distribution -> convert all_labels to a series to count\n",
    "label_dist = pd.Series(all_labels).value_counts()\n",
    "\n",
    "#count occurences of rows without labels\n",
    "no_label_count = data['labels_list'].apply(lambda x: len(x) == 0).sum() # use lambda func. to count occurence where len of string =0\n",
    "\n",
    "print(\"Label distribution:\")\n",
    "print(label_dist)\n",
    "print(\"\\nNumber of rows without labels:\", no_label_count)\n"
   ]
  },
  {
   "cell_type": "code",
   "execution_count": 40,
   "metadata": {},
   "outputs": [
    {
     "name": "stdout",
     "output_type": "stream",
     "text": [
      "<class 'pandas.core.frame.DataFrame'>\n",
      "RangeIndex: 6344950 entries, 0 to 6344949\n",
      "Data columns (total 5 columns):\n",
      " #   Column          Dtype \n",
      "---  ------          ----- \n",
      " 0   text            object\n",
      " 1   labels          object\n",
      " 2   encoded_labels  object\n",
      " 3   text_length     int64 \n",
      " 4   labels_list     object\n",
      "dtypes: int64(1), object(4)\n",
      "memory usage: 242.0+ MB\n"
     ]
    }
   ],
   "source": [
    "data.info()"
   ]
  },
  {
   "cell_type": "code",
   "execution_count": 42,
   "metadata": {
    "scrolled": true
   },
   "outputs": [
    {
     "data": {
      "image/png": "[encoded data removed]",
      "text/plain": [
       "<Figure size 1200x600 with 1 Axes>"
      ]
     },
     "metadata": {},
     "output_type": "display_data"
    }
   ],
   "source": [
    "#flatten-> convert list of lists into single list (all_labels is flattened list variable)\n",
    "# Plot histogram\n",
    "plt.figure(figsize=(12, 6))\n",
    "plt.hist(all_labels, bins=len(set(all_labels)), align='left', rwidth=0.8)\n",
    "plt.xlabel('Labels')\n",
    "plt.ylabel('Frequency')\n",
    "plt.title('Label Distribution Train')\n",
    "plt.xticks(rotation=45)\n",
    "plt.grid(axis='y', alpha=0.75)\n",
    "plt.show()\n",
    "\n"
   ]
  },
  {
   "cell_type": "markdown",
   "metadata": {},
   "source": [
    "Number of occurences of toxic: 568,042 and number of occurences of no label: 5,436,491 -> high class imbalance in dataset"
   ]
  },
  {
   "cell_type": "code",
   "execution_count": 112,
   "metadata": {},
   "outputs": [
    {
     "name": "stdout",
     "output_type": "stream",
     "text": [
      "Percentage of 'toxic' labels in the train dataset: 8.95%\n"
     ]
    }
   ],
   "source": [
    "# Calculate the percentage of 'toxic' labels in the dataset\n",
    "total_samples = len(data)\n",
    "toxic_count = label_dist.get('toxic', 0)  # Get count of 'toxic' labels or 0 if 'toxic' not found\n",
    "toxic_percentage = (toxic_count / total_samples) * 100\n",
    "\n",
    "print(f\"Percentage of 'toxic' labels in the train dataset: {toxic_percentage:.2f}%\")"
   ]
  },
  {
   "cell_type": "markdown",
   "metadata": {},
   "source": [
    "**Co Occurence** For this analysis will look at co-occurance of up to 2 labels"
   ]
  },
  {
   "cell_type": "code",
   "execution_count": 87,
   "metadata": {},
   "outputs": [],
   "source": [
    "from itertools import combinations\n",
    "from sklearn.preprocessing import MultiLabelBinarizer\n"
   ]
  },
  {
   "cell_type": "code",
   "execution_count": 85,
   "metadata": {},
   "outputs": [
    {
     "data": {
      "text/plain": [
       "0    [0, 0, 0, 0, 0, 0, 0, 0, 0]\n",
       "1    [1, 1, 1, 0, 0, 0, 0, 0, 0]\n",
       "2    [1, 1, 0, 0, 0, 0, 0, 0, 0]\n",
       "3    [0, 0, 0, 0, 0, 0, 0, 0, 0]\n",
       "4    [0, 0, 0, 0, 0, 0, 0, 0, 0]\n",
       "Name: encoded_labels, dtype: object"
      ]
     },
     "execution_count": 85,
     "metadata": {},
     "output_type": "execute_result"
    }
   ],
   "source": [
    "data['encoded_labels'].head()"
   ]
  },
  {
   "cell_type": "code",
   "execution_count": 89,
   "metadata": {},
   "outputs": [],
   "source": [
    "#one hot encode labels use mlb, use column 'labels_list'\n",
    "mlb=MultiLabelBinarizer()\n",
    "one_hot_labels = mlb.fit_transform(data['labels_list'])\n",
    "#create a one hot encoded df\n",
    "one_hot_df = pd.DataFrame(one_hot_labels, columns =mlb.classes_)"
   ]
  },
  {
   "cell_type": "code",
   "execution_count": 92,
   "metadata": {},
   "outputs": [
    {
     "data": {
      "text/html": [
       "<div>\n",
       "<style scoped>\n",
       "    .dataframe tbody tr th:only-of-type {\n",
       "        vertical-align: middle;\n",
       "    }\n",
       "\n",
       "    .dataframe tbody tr th {\n",
       "        vertical-align: top;\n",
       "    }\n",
       "\n",
       "    .dataframe thead th {\n",
       "        text-align: right;\n",
       "    }\n",
       "</style>\n",
       "<table border=\"1\" class=\"dataframe\">\n",
       "  <thead>\n",
       "    <tr style=\"text-align: right;\">\n",
       "      <th></th>\n",
       "      <th>harassment</th>\n",
       "      <th>hate</th>\n",
       "      <th>insult</th>\n",
       "      <th>offensive</th>\n",
       "      <th>profane</th>\n",
       "      <th>selfharm</th>\n",
       "      <th>sexual</th>\n",
       "      <th>threat</th>\n",
       "      <th>toxic</th>\n",
       "    </tr>\n",
       "  </thead>\n",
       "  <tbody>\n",
       "    <tr>\n",
       "      <th>0</th>\n",
       "      <td>0</td>\n",
       "      <td>0</td>\n",
       "      <td>0</td>\n",
       "      <td>0</td>\n",
       "      <td>0</td>\n",
       "      <td>0</td>\n",
       "      <td>0</td>\n",
       "      <td>0</td>\n",
       "      <td>0</td>\n",
       "    </tr>\n",
       "    <tr>\n",
       "      <th>1</th>\n",
       "      <td>0</td>\n",
       "      <td>0</td>\n",
       "      <td>1</td>\n",
       "      <td>0</td>\n",
       "      <td>1</td>\n",
       "      <td>0</td>\n",
       "      <td>0</td>\n",
       "      <td>0</td>\n",
       "      <td>1</td>\n",
       "    </tr>\n",
       "    <tr>\n",
       "      <th>2</th>\n",
       "      <td>0</td>\n",
       "      <td>0</td>\n",
       "      <td>0</td>\n",
       "      <td>0</td>\n",
       "      <td>1</td>\n",
       "      <td>0</td>\n",
       "      <td>0</td>\n",
       "      <td>0</td>\n",
       "      <td>1</td>\n",
       "    </tr>\n",
       "    <tr>\n",
       "      <th>3</th>\n",
       "      <td>0</td>\n",
       "      <td>0</td>\n",
       "      <td>0</td>\n",
       "      <td>0</td>\n",
       "      <td>0</td>\n",
       "      <td>0</td>\n",
       "      <td>0</td>\n",
       "      <td>0</td>\n",
       "      <td>0</td>\n",
       "    </tr>\n",
       "    <tr>\n",
       "      <th>4</th>\n",
       "      <td>0</td>\n",
       "      <td>0</td>\n",
       "      <td>0</td>\n",
       "      <td>0</td>\n",
       "      <td>0</td>\n",
       "      <td>0</td>\n",
       "      <td>0</td>\n",
       "      <td>0</td>\n",
       "      <td>0</td>\n",
       "    </tr>\n",
       "  </tbody>\n",
       "</table>\n",
       "</div>"
      ],
      "text/plain": [
       "   harassment  hate  insult  offensive  profane  selfharm  sexual  threat  \\\n",
       "0           0     0       0          0        0         0       0       0   \n",
       "1           0     0       1          0        1         0       0       0   \n",
       "2           0     0       0          0        1         0       0       0   \n",
       "3           0     0       0          0        0         0       0       0   \n",
       "4           0     0       0          0        0         0       0       0   \n",
       "\n",
       "   toxic  \n",
       "0      0  \n",
       "1      1  \n",
       "2      1  \n",
       "3      0  \n",
       "4      0  "
      ]
     },
     "execution_count": 92,
     "metadata": {},
     "output_type": "execute_result"
    }
   ],
   "source": [
    "one_hot_df.head()"
   ]
  },
  {
   "cell_type": "code",
   "execution_count": 91,
   "metadata": {},
   "outputs": [
    {
     "name": "stdout",
     "output_type": "stream",
     "text": [
      "harassment         0\n",
      "hate           21718\n",
      "insult        218898\n",
      "offensive          0\n",
      "profane        35545\n",
      "selfharm           0\n",
      "sexual          7308\n",
      "threat          8121\n",
      "Name: toxic, dtype: int64\n"
     ]
    }
   ],
   "source": [
    "#get count of co occurrence of other labels with toxic \n",
    "label_to_check = 'toxic'\n",
    "#use .dot (dot product -> results in new matrix(df) calculate dot product of toxic column with remaining cols.)\n",
    "co_occur_toxic = one_hot_df[label_to_check].dot(one_hot_df.drop(label_to_check, axis=1))\n",
    "print(co_occur_toxic)"
   ]
  },
  {
   "cell_type": "code",
   "execution_count": 94,
   "metadata": {},
   "outputs": [
    {
     "data": {
      "image/png": "[encoded data removed]",
      "text/plain": [
       "<Figure size 640x480 with 1 Axes>"
      ]
     },
     "metadata": {},
     "output_type": "display_data"
    }
   ],
   "source": [
    "co_occur_toxic.plot(kind='bar')\n",
    "plt.xlabel('Label')\n",
    "plt.ylabel('Co-occurrence Count')\n",
    "plt.title('Co-occurrence of \"toxic\" with other labels')\n",
    "plt.show()"
   ]
  },
  {
   "cell_type": "markdown",
   "metadata": {},
   "source": [
    "In looking at co-occurence of other labels with the label toxic, insult appears the most with toxic. This is followed by 'profane', 'hate', 'sexual' and 'threat' however insult co-occurs by far the most with the label toxic. "
   ]
  },
  {
   "cell_type": "markdown",
   "metadata": {},
   "source": [
    "### Languages in Text"
   ]
  },
  {
   "cell_type": "code",
   "execution_count": 76,
   "metadata": {},
   "outputs": [],
   "source": [
    "from langdetect import detect\n",
    "from langdetect.lang_detect_exception import LangDetectException\n",
    "from joblib import Parallel, delayed"
   ]
  },
  {
   "cell_type": "markdown",
   "metadata": {},
   "source": [
    " **System Specifications and Parallelization**\n",
    "\n",
    "- **Model Name:** Mac mini\n",
    "- **Chip:** Apple M2\n",
    "- **Total Number of Cores:** 8 (4 performance and 4 efficiency)\n",
    "- **Memory:** 16 GB\n",
    "\n",
    "\n",
    "**Parallization**\n",
    "n_jobs = 3\n"
   ]
  },
  {
   "cell_type": "code",
   "execution_count": 74,
   "metadata": {},
   "outputs": [],
   "source": [
    "def detect_language(text):\n",
    "    try:\n",
    "        if len(text) > 3: #algorithm cannot detect language with less than 3 characters\n",
    "            return detect(text)\n",
    "        else:\n",
    "            return \"unknown\"\n",
    "    except LangDetectException:\n",
    "        return \"unknown\""
   ]
  },
  {
   "cell_type": "code",
   "execution_count": 78,
   "metadata": {},
   "outputs": [],
   "source": [
    "data['language'] = Parallel(n_jobs=3)(delayed(detect_language)(x) for x in data['text'])"
   ]
  },
  {
   "cell_type": "code",
   "execution_count": 79,
   "metadata": {
    "scrolled": true
   },
   "outputs": [
    {
     "data": {
      "text/html": [
       "<div>\n",
       "<style scoped>\n",
       "    .dataframe tbody tr th:only-of-type {\n",
       "        vertical-align: middle;\n",
       "    }\n",
       "\n",
       "    .dataframe tbody tr th {\n",
       "        vertical-align: top;\n",
       "    }\n",
       "\n",
       "    .dataframe thead th {\n",
       "        text-align: right;\n",
       "    }\n",
       "</style>\n",
       "<table border=\"1\" class=\"dataframe\">\n",
       "  <thead>\n",
       "    <tr style=\"text-align: right;\">\n",
       "      <th></th>\n",
       "      <th>text</th>\n",
       "      <th>labels</th>\n",
       "      <th>encoded_labels</th>\n",
       "      <th>text_length</th>\n",
       "      <th>labels_list</th>\n",
       "      <th>language</th>\n",
       "    </tr>\n",
       "  </thead>\n",
       "  <tbody>\n",
       "    <tr>\n",
       "      <th>0</th>\n",
       "      <td>Football positions \\n\\nHi Mehudson.  When you'...</td>\n",
       "      <td>[]</td>\n",
       "      <td>[0, 0, 0, 0, 0, 0, 0, 0, 0]</td>\n",
       "      <td>324</td>\n",
       "      <td>[]</td>\n",
       "      <td>en</td>\n",
       "    </tr>\n",
       "    <tr>\n",
       "      <th>1</th>\n",
       "      <td>Thank you SO MUCH for your Nazi-like oversight...</td>\n",
       "      <td>[toxic, profane, insult]</td>\n",
       "      <td>[1, 1, 1, 0, 0, 0, 0, 0, 0]</td>\n",
       "      <td>272</td>\n",
       "      <td>[toxic, profane, insult]</td>\n",
       "      <td>en</td>\n",
       "    </tr>\n",
       "    <tr>\n",
       "      <th>2</th>\n",
       "      <td>Darkwind  \\n Stick it up your arse you offensi...</td>\n",
       "      <td>[toxic, profane]</td>\n",
       "      <td>[1, 1, 0, 0, 0, 0, 0, 0, 0]</td>\n",
       "      <td>99</td>\n",
       "      <td>[toxic, profane]</td>\n",
       "      <td>en</td>\n",
       "    </tr>\n",
       "    <tr>\n",
       "      <th>3</th>\n",
       "      <td>Message from you to an IP \\n\\nI received a mes...</td>\n",
       "      <td>[]</td>\n",
       "      <td>[0, 0, 0, 0, 0, 0, 0, 0, 0]</td>\n",
       "      <td>292</td>\n",
       "      <td>[]</td>\n",
       "      <td>en</td>\n",
       "    </tr>\n",
       "    <tr>\n",
       "      <th>4</th>\n",
       "      <td>Misleading and inappropriate citations Used</td>\n",
       "      <td>[]</td>\n",
       "      <td>[0, 0, 0, 0, 0, 0, 0, 0, 0]</td>\n",
       "      <td>43</td>\n",
       "      <td>[]</td>\n",
       "      <td>en</td>\n",
       "    </tr>\n",
       "  </tbody>\n",
       "</table>\n",
       "</div>"
      ],
      "text/plain": [
       "                                                text  \\\n",
       "0  Football positions \\n\\nHi Mehudson.  When you'...   \n",
       "1  Thank you SO MUCH for your Nazi-like oversight...   \n",
       "2  Darkwind  \\n Stick it up your arse you offensi...   \n",
       "3  Message from you to an IP \\n\\nI received a mes...   \n",
       "4        Misleading and inappropriate citations Used   \n",
       "\n",
       "                     labels               encoded_labels  text_length  \\\n",
       "0                        []  [0, 0, 0, 0, 0, 0, 0, 0, 0]          324   \n",
       "1  [toxic, profane, insult]  [1, 1, 1, 0, 0, 0, 0, 0, 0]          272   \n",
       "2          [toxic, profane]  [1, 1, 0, 0, 0, 0, 0, 0, 0]           99   \n",
       "3                        []  [0, 0, 0, 0, 0, 0, 0, 0, 0]          292   \n",
       "4                        []  [0, 0, 0, 0, 0, 0, 0, 0, 0]           43   \n",
       "\n",
       "                labels_list language  \n",
       "0                        []       en  \n",
       "1  [toxic, profane, insult]       en  \n",
       "2          [toxic, profane]       en  \n",
       "3                        []       en  \n",
       "4                        []       en  "
      ]
     },
     "execution_count": 79,
     "metadata": {},
     "output_type": "execute_result"
    }
   ],
   "source": [
    "data.head()"
   ]
  },
  {
   "cell_type": "markdown",
   "metadata": {},
   "source": [
    "Note: the way language of text was added if text less than 3 characters then language is unknown. "
   ]
  },
  {
   "cell_type": "code",
   "execution_count": 82,
   "metadata": {
    "scrolled": true
   },
   "outputs": [
    {
     "data": {
      "text/plain": [
       "language\n",
       "en         2541753\n",
       "es         1956756\n",
       "fr         1697795\n",
       "pt           20810\n",
       "ca           14841\n",
       "it           13552\n",
       "de           12658\n",
       "unknown       8033\n",
       "af            7650\n",
       "nl            7046\n",
       "so            6586\n",
       "da            5520\n",
       "tl            5513\n",
       "id            5394\n",
       "cy            4863\n",
       "no            4845\n",
       "ro            4785\n",
       "et            3265\n",
       "hu            2256\n",
       "sl            2182\n",
       "sv            2105\n",
       "fi            2020\n",
       "vi            1683\n",
       "tr            1664\n",
       "sw            1482\n",
       "pl            1449\n",
       "lt            1439\n",
       "hr            1419\n",
       "sk            1128\n",
       "cs             789\n",
       "sq             722\n",
       "lv             701\n",
       "uk             594\n",
       "hi             340\n",
       "ar             225\n",
       "bn             186\n",
       "ru             150\n",
       "fa             139\n",
       "el             135\n",
       "bg             127\n",
       "ko             114\n",
       "ta              46\n",
       "he              42\n",
       "mk              39\n",
       "ur              20\n",
       "mr              18\n",
       "kn              18\n",
       "ml              17\n",
       "th              14\n",
       "ne              11\n",
       "gu               6\n",
       "pa               3\n",
       "te               2\n",
       "Name: count, dtype: int64"
      ]
     },
     "execution_count": 82,
     "metadata": {},
     "output_type": "execute_result"
    }
   ],
   "source": [
    "data['language'].value_counts()"
   ]
  },
  {
   "cell_type": "markdown",
   "metadata": {},
   "source": [
    "English is the highest occuring language in the dataset, followed by spanish and french. "
   ]
  },
  {
   "cell_type": "markdown",
   "metadata": {},
   "source": [
    "**Description of Languages**\n",
    "<details>\n",
    "<summary>Click to expand</summary>\n",
    "\n",
    "- en: English\n",
    "- es: Spanish\n",
    "- fr: French\n",
    "- pt: Portuguese\n",
    "- ca: Catalan\n",
    "- it: Italian\n",
    "- de: German\n",
    "- unknown: Unknown\n",
    "- af: Afrikaans\n",
    "- nl: Dutch\n",
    "- so: Somali\n",
    "- da: Danish\n",
    "- tl: Tagalog\n",
    "- id: Indonesian\n",
    "- cy: Welsh\n",
    "- no: Norwegian\n",
    "- ro: Romanian\n",
    "- et: Estonian\n",
    "- hu: Hungarian\n",
    "- sl: Slovenian\n",
    "- sv: Swedish\n",
    "- fi: Finnish\n",
    "- vi: Vietnamese\n",
    "- tr: Turkish\n",
    "- sw: Swahili\n",
    "- pl: Polish\n",
    "- lt: Lithuanian\n",
    "- hr: Croatian\n",
    "- sk: Slovak\n",
    "- cs: Czech\n",
    "- sq: Albanian\n",
    "- lv: Latvian\n",
    "- uk: Ukrainian\n",
    "- hi: Hindi\n",
    "- ar: Arabic\n",
    "- bn: Bengali\n",
    "- ru: Russian\n",
    "- fa: Persian\n",
    "- el: Greek\n",
    "- bg: Bulgarian\n",
    "- ko: Korean\n",
    "- ta: Tamil\n",
    "- he: Hebrew\n",
    "- mk: Macedonian\n",
    "- ur: Urdu\n",
    "- mr: Marathi\n",
    "- kn: Kannada\n",
    "- ml: Malayalam\n",
    "- th: Thai\n",
    "- ne: Nepali\n",
    "- gu: Gujarati\n",
    "- pa: Punjabi\n",
    "- te: Telugu\n",
    "\n",
    "</details>\n"
   ]
  },
  {
   "cell_type": "code",
   "execution_count": 97,
   "metadata": {},
   "outputs": [
    {
     "name": "stdout",
     "output_type": "stream",
     "text": [
      "<class 'pandas.core.frame.DataFrame'>\n",
      "RangeIndex: 6344950 entries, 0 to 6344949\n",
      "Data columns (total 6 columns):\n",
      " #   Column          Dtype \n",
      "---  ------          ----- \n",
      " 0   text            object\n",
      " 1   labels          object\n",
      " 2   encoded_labels  object\n",
      " 3   text_length     int64 \n",
      " 4   labels_list     object\n",
      " 5   language        object\n",
      "dtypes: int64(1), object(5)\n",
      "memory usage: 290.4+ MB\n"
     ]
    }
   ],
   "source": [
    "data.info()"
   ]
  },
  {
   "cell_type": "markdown",
   "metadata": {},
   "source": [
    "**Occurence of label 'toxic' by language**"
   ]
  },
  {
   "cell_type": "code",
   "execution_count": 98,
   "metadata": {},
   "outputs": [
    {
     "name": "stdout",
     "output_type": "stream",
     "text": [
      "    language labels_list  toxic_count\n",
      "0         af  harassment            0\n",
      "1         af        hate            0\n",
      "2         af      insult            0\n",
      "3         af   offensive            0\n",
      "4         af     profane            0\n",
      "..       ...         ...          ...\n",
      "318       vi   offensive            0\n",
      "319       vi     profane            0\n",
      "320       vi    selfharm            0\n",
      "321       vi      sexual            0\n",
      "322       vi       toxic          271\n",
      "\n",
      "[323 rows x 3 columns]\n"
     ]
    }
   ],
   "source": [
    "#occurence of label toxic by language \n",
    "exploded_data = data.explode('labels_list')\n",
    "\n",
    "# Group by 'language' and 'labels_list', then count the occurrences of 'toxic' in each group\n",
    "grouped_data = exploded_data.groupby(['language', 'labels_list'])['labels_list'].apply(lambda x: (x == 'toxic').sum())\n",
    "\n",
    "# Reset the index to get a DataFrame with 'toxic_count' for each language and label\n",
    "toxic_count_by_language = grouped_data.reset_index(name='toxic_count')\n",
    "\n",
    "print(toxic_count_by_language)"
   ]
  },
  {
   "cell_type": "code",
   "execution_count": 101,
   "metadata": {
    "scrolled": true
   },
   "outputs": [
    {
     "name": "stdout",
     "output_type": "stream",
     "text": [
      "   language  total_toxic_count\n",
      "0        af                415\n",
      "1        ar                  0\n",
      "2        bg                  3\n",
      "3        bn                  4\n",
      "4        ca               1274\n",
      "5        cs                 44\n",
      "6        cy                344\n",
      "7        da                183\n",
      "8        de               2141\n",
      "9        el                  0\n",
      "10       en             326820\n",
      "11       es             115147\n",
      "12       et                268\n",
      "13       fa                  0\n",
      "14       fi                141\n",
      "15       fr             114311\n",
      "16       he                  0\n",
      "17       hi                  3\n",
      "18       hr                123\n",
      "19       hu                177\n",
      "20       id                350\n",
      "21       it               1224\n",
      "22       lt                104\n",
      "23       lv                 61\n",
      "24       mk                  0\n",
      "25       ml                  0\n",
      "26       nl                296\n",
      "27       no                289\n",
      "28       pl                 91\n",
      "29       pt               1895\n",
      "30       ro                543\n",
      "31       ru                  0\n",
      "32       sk                 59\n",
      "33       sl                110\n",
      "34       so                522\n",
      "35       sq                 90\n",
      "36       sv                177\n",
      "37       sw                123\n",
      "38       ta                  1\n",
      "39       th                  2\n",
      "40       tl                291\n",
      "41       tr                 95\n",
      "42       uk                  0\n",
      "43  unknown                 50\n",
      "44       ur                  0\n",
      "45       vi                271\n"
     ]
    }
   ],
   "source": [
    "tot_tc_by_language = toxic_count_by_language.groupby('language')['toxic_count'].sum().reset_index(name='total_toxic_count')\n",
    "print(tot_tc_by_language)"
   ]
  },
  {
   "cell_type": "code",
   "execution_count": 102,
   "metadata": {
    "scrolled": true
   },
   "outputs": [
    {
     "data": {
      "image/png": "[encoded data removed]",
      "text/plain": [
       "<Figure size 1200x600 with 1 Axes>"
      ]
     },
     "metadata": {},
     "output_type": "display_data"
    }
   ],
   "source": [
    "plt.figure(figsize=(12, 6))\n",
    "plt.bar(tot_tc_by_language['language'], tot_tc_by_language['total_toxic_count'])\n",
    "plt.xlabel('Language')\n",
    "plt.ylabel('Total Toxic Count')\n",
    "plt.title('Total Toxic Count by Language')\n",
    "plt.xticks(rotation=45)\n",
    "plt.tight_layout()\n",
    "plt.show()"
   ]
  },
  {
   "cell_type": "markdown",
   "metadata": {},
   "source": [
    "## Validation set"
   ]
  },
  {
   "cell_type": "code",
   "execution_count": 103,
   "metadata": {},
   "outputs": [],
   "source": [
    "df_val = read_parquet_files('../data/hugging/validation-*.parquet')"
   ]
  },
  {
   "cell_type": "code",
   "execution_count": 104,
   "metadata": {
    "scrolled": true
   },
   "outputs": [
    {
     "name": "stdout",
     "output_type": "stream",
     "text": [
      "<class 'pandas.core.frame.DataFrame'>\n",
      "RangeIndex: 710497 entries, 0 to 710496\n",
      "Data columns (total 3 columns):\n",
      " #   Column          Non-Null Count   Dtype \n",
      "---  ------          --------------   ----- \n",
      " 0   text            710497 non-null  object\n",
      " 1   labels          710497 non-null  object\n",
      " 2   encoded_labels  710497 non-null  object\n",
      "dtypes: object(3)\n",
      "memory usage: 16.3+ MB\n"
     ]
    }
   ],
   "source": [
    "df_val.info()"
   ]
  },
  {
   "cell_type": "code",
   "execution_count": 105,
   "metadata": {},
   "outputs": [],
   "source": [
    "df_val['text_length'] = df_val['text'].apply(len)"
   ]
  },
  {
   "cell_type": "code",
   "execution_count": 106,
   "metadata": {},
   "outputs": [
    {
     "data": {
      "text/html": [
       "<div>\n",
       "<style scoped>\n",
       "    .dataframe tbody tr th:only-of-type {\n",
       "        vertical-align: middle;\n",
       "    }\n",
       "\n",
       "    .dataframe tbody tr th {\n",
       "        vertical-align: top;\n",
       "    }\n",
       "\n",
       "    .dataframe thead th {\n",
       "        text-align: right;\n",
       "    }\n",
       "</style>\n",
       "<table border=\"1\" class=\"dataframe\">\n",
       "  <thead>\n",
       "    <tr style=\"text-align: right;\">\n",
       "      <th></th>\n",
       "      <th>text</th>\n",
       "      <th>labels</th>\n",
       "      <th>encoded_labels</th>\n",
       "      <th>text_length</th>\n",
       "    </tr>\n",
       "  </thead>\n",
       "  <tbody>\n",
       "    <tr>\n",
       "      <th>0</th>\n",
       "      <td>Go ahead and merge what you think is necessary...</td>\n",
       "      <td>[]</td>\n",
       "      <td>[0, 0, 0, 0, 0, 0, 0, 0, 0]</td>\n",
       "      <td>101</td>\n",
       "    </tr>\n",
       "    <tr>\n",
       "      <th>1</th>\n",
       "      <td>\"\\n\\n Merging Red Hand of Doom and Reliability...</td>\n",
       "      <td>[]</td>\n",
       "      <td>[0, 0, 0, 0, 0, 0, 0, 0, 0]</td>\n",
       "      <td>1625</td>\n",
       "    </tr>\n",
       "  </tbody>\n",
       "</table>\n",
       "</div>"
      ],
      "text/plain": [
       "                                                text labels  \\\n",
       "0  Go ahead and merge what you think is necessary...     []   \n",
       "1  \"\\n\\n Merging Red Hand of Doom and Reliability...     []   \n",
       "\n",
       "                encoded_labels  text_length  \n",
       "0  [0, 0, 0, 0, 0, 0, 0, 0, 0]          101  \n",
       "1  [0, 0, 0, 0, 0, 0, 0, 0, 0]         1625  "
      ]
     },
     "execution_count": 106,
     "metadata": {},
     "output_type": "execute_result"
    }
   ],
   "source": [
    "df_val.head(2)"
   ]
  },
  {
   "cell_type": "code",
   "execution_count": 108,
   "metadata": {},
   "outputs": [
    {
     "data": {
      "image/png": "[encoded data removed]",
      "text/plain": [
       "<Figure size 1000x600 with 1 Axes>"
      ]
     },
     "metadata": {},
     "output_type": "display_data"
    }
   ],
   "source": [
    "#text length distribution in val set\n",
    "plt.figure(figsize=(10, 6))\n",
    "plt.hist(df_val['text_length'], bins=50, color='skyblue', edgecolor='black')\n",
    "plt.xlabel('Text Length')\n",
    "plt.ylabel('Frequency')\n",
    "plt.title('Distribution of Text Lengths Validation Set')\n",
    "plt.show()\n"
   ]
  },
  {
   "cell_type": "code",
   "execution_count": 110,
   "metadata": {},
   "outputs": [
    {
     "name": "stdout",
     "output_type": "stream",
     "text": [
      "Label distribution:\n",
      "toxic         63233\n",
      "selfharm      29430\n",
      "insult        26564\n",
      "profane        5640\n",
      "hate           5409\n",
      "offensive      4190\n",
      "threat         1050\n",
      "sexual         1004\n",
      "harassment      465\n",
      "Name: count, dtype: int64\n",
      "\n",
      "Number of rows without labels: 607497\n"
     ]
    }
   ],
   "source": [
    "#ast.literal_eval convert string representation of labels to a list\n",
    "df_val['labels_list'] = df_val['labels'].apply(safe_literal_eval) \n",
    "#flatten list\n",
    "#first part iterate through rows, nested for; iterate through labels in row\n",
    "all_labels_val = [label for labels_list in df_val['labels_list'] for label in labels_list]\n",
    "\n",
    "#calculate distribution -> convert all_labels to a series to count\n",
    "label_dist_val = pd.Series(all_labels_val).value_counts()\n",
    "\n",
    "#count occurences of rows without labels\n",
    "no_label_count_val = df_val['labels_list'].apply(lambda x: len(x) == 0).sum() # use lambda func. to count occurence where len of string =0\n",
    "\n",
    "print(\"Label distribution:\")\n",
    "print(label_dist_val)\n",
    "print(\"\\nNumber of rows without labels:\", no_label_count_val)"
   ]
  },
  {
   "cell_type": "code",
   "execution_count": null,
   "metadata": {},
   "outputs": [],
   "source": []
  },
  {
   "cell_type": "code",
   "execution_count": 111,
   "metadata": {},
   "outputs": [
    {
     "data": {
      "image/png": "[encoded data removed]",
      "text/plain": [
       "<Figure size 1200x600 with 1 Axes>"
      ]
     },
     "metadata": {},
     "output_type": "display_data"
    },
    {
     "name": "stdout",
     "output_type": "stream",
     "text": [
      "Percentage of 'toxic' labels in the dataset: 8.90%\n"
     ]
    }
   ],
   "source": [
    "plt.figure(figsize=(12, 6))\n",
    "label_dist_val.plot(kind='bar')\n",
    "plt.xlabel('Label')\n",
    "plt.ylabel('Count')\n",
    "plt.title('Label Distribution')\n",
    "plt.xticks(rotation=45)\n",
    "plt.tight_layout()\n",
    "plt.show()\n",
    "\n",
    "# Calculate the percentage of 'toxic' labels in the dataset\n",
    "total_samples_val = len(df_val)\n",
    "toxic_count_val = label_dist_val.get('toxic', 0)  # Get count of 'toxic' labels or 0 if 'toxic' not found\n",
    "toxic_percentage_val = (toxic_count_val / total_samples_val) * 100\n",
    "\n",
    "print(f\"Percentage of 'toxic' labels in the dataset: {toxic_percentage_val:.2f}%\")"
   ]
  },
  {
   "cell_type": "markdown",
   "metadata": {},
   "source": [
    "**Summary Distributions:** \n",
    "Similar distribution to train set of toxic label,percentage of toxic labels in train set; 8.95%. Distributions of other labels slightly different from train set, however toxic is the most prevalent. Similar Distriubtion of text lengths between train and validation. "
   ]
  },
  {
   "cell_type": "markdown",
   "metadata": {},
   "source": [
    "If using Hugging face dataset, language column can be added to validation set, also possibly could combine validation data obtained from hugging face with train to get one working dataset and perform a train test split for modelling. "
   ]
  },
  {
   "cell_type": "markdown",
   "metadata": {},
   "source": [
    "### Word Frequency"
   ]
  },
  {
   "cell_type": "code",
   "execution_count": 43,
   "metadata": {},
   "outputs": [],
   "source": [
    "from nltk.tokenize import word_tokenize\n",
    "from collections import Counter"
   ]
  },
  {
   "cell_type": "code",
   "execution_count": null,
   "metadata": {},
   "outputs": [],
   "source": []
  }
 ],
 "metadata": {
  "kernelspec": {
   "display_name": "Python 3 (ipykernel)",
   "language": "python",
   "name": "python3"
  },
  "language_info": {
   "codemirror_mode": {
    "name": "ipython",
    "version": 3
   },
   "file_extension": ".py",
   "mimetype": "text/x-python",
   "name": "python",
   "nbconvert_exporter": "python",
   "pygments_lexer": "ipython3",
   "version": "3.8.18"
  }
 },
 "nbformat": 4,
 "nbformat_minor": 4
}
